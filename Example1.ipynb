{
  "nbformat": 4,
  "nbformat_minor": 0,
  "metadata": {
    "colab": {
      "name": "Example1.ipynb",
      "provenance": [],
      "collapsed_sections": []
    },
    "kernelspec": {
      "name": "python3",
      "display_name": "Python 3"
    },
    "accelerator": "GPU"
  },
  "cells": [
    {
      "cell_type": "markdown",
      "metadata": {
        "id": "5mEY6x1DtlEX",
        "colab_type": "text"
      },
      "source": [
        "# Example 1\n",
        "\n",
        "Our first neural network\n",
        "\n",
        "Do not forget: Runtime -> Change Runtime Type -> Python3 and GPU\n",
        "\n",
        "If you want to start locally check this [link](https://pytorch.org/get-started/locally/)."
      ]
    },
    {
      "cell_type": "code",
      "metadata": {
        "id": "yx9KinQ_tsLc",
        "colab_type": "code",
        "colab": {}
      },
      "source": [
        "import argparse\n",
        "import torch\n",
        "import torch.nn as nn\n",
        "import torch.nn.functional as F\n",
        "import torch.optim as optim\n",
        "from torchvision import datasets, transforms"
      ],
      "execution_count": 0,
      "outputs": []
    },
    {
      "cell_type": "markdown",
      "metadata": {
        "id": "j38B8jIMvglm",
        "colab_type": "text"
      },
      "source": [
        "# Define model\n",
        "\n",
        "We have three layers (500, 1000, 10). The last one is important, since we have 10 classes we need 10 output neuron."
      ]
    },
    {
      "cell_type": "code",
      "metadata": {
        "id": "PMw4r7H5uGNN",
        "colab_type": "code",
        "colab": {}
      },
      "source": [
        "class Net(nn.Module):\n",
        "    def __init__(self):\n",
        "        super(Net, self).__init__()\n",
        "        self.fc1 = nn.Linear(784, 500)\n",
        "        self.fc2 = nn.Linear(500, 1000)\n",
        "        self.fc3 = nn.Linear(1000, 10)\n",
        "\n",
        "    def forward(self, x):\n",
        "        x = x.view(-1, 784)\n",
        "        x = F.relu(self.fc1(x))\n",
        "        x = F.relu(self.fc2(x))\n",
        "        x = self.fc3(x)        \n",
        "        return F.log_softmax(x, dim=1)"
      ],
      "execution_count": 0,
      "outputs": []
    },
    {
      "cell_type": "markdown",
      "metadata": {
        "id": "-JrIpEO_vqqJ",
        "colab_type": "text"
      },
      "source": [
        "# Loading data\n",
        "\n",
        "We use `DataLoader` and `DataSet` torch util classes."
      ]
    },
    {
      "cell_type": "code",
      "metadata": {
        "id": "PRV9CCmruogF",
        "colab_type": "code",
        "colab": {}
      },
      "source": [
        "train_loader = torch.utils.data.DataLoader(\n",
        "        datasets.MNIST('../data', train=True, download=True,\n",
        "                       transform=transforms.Compose([\n",
        "                           transforms.ToTensor(),\n",
        "                           transforms.Normalize((0.1307,), (0.3081,))\n",
        "                       ])),\n",
        "        batch_size=128, shuffle=True)\n",
        "\n",
        "test_loader = torch.utils.data.DataLoader(\n",
        "        datasets.MNIST('../data', train=False, transform=transforms.Compose([\n",
        "                           transforms.ToTensor(),\n",
        "                           transforms.Normalize((0.1307,), (0.3081,))\n",
        "                       ])),\n",
        "        batch_size=1000, shuffle=True)"
      ],
      "execution_count": 0,
      "outputs": []
    },
    {
      "cell_type": "markdown",
      "metadata": {
        "id": "WlEbv0a7vzfv",
        "colab_type": "text"
      },
      "source": [
        "# Training and testing loops\n",
        "\n",
        "Boilerplate code for training and testing (almost never changes)."
      ]
    },
    {
      "cell_type": "code",
      "metadata": {
        "id": "plFKrxb8uJy9",
        "colab_type": "code",
        "colab": {}
      },
      "source": [
        "def train(model, device, train_loader, optimizer, epoch):\n",
        "    model.train()\n",
        "    for batch_idx, (data, target) in enumerate(train_loader):\n",
        "        data, target = data.to(device), target.to(device)\n",
        "        optimizer.zero_grad()\n",
        "        output = model(data)\n",
        "        loss = F.nll_loss(output, target)\n",
        "        loss.backward()\n",
        "        optimizer.step()\n",
        "        if batch_idx % 100 == 0:\n",
        "            print('Train Epoch: {} [{}/{} ({:.0f}%)]\\tLoss: {:.6f}'.format(\n",
        "                epoch, batch_idx * len(data), len(train_loader.dataset),\n",
        "                100. * batch_idx / len(train_loader), loss.item()))\n",
        "\n",
        "def test(model, device, test_loader):\n",
        "    model.eval()\n",
        "    test_loss = 0\n",
        "    correct = 0\n",
        "    with torch.no_grad():\n",
        "        for data, target in test_loader:\n",
        "            data, target = data.to(device), target.to(device)\n",
        "            output = model(data)\n",
        "            test_loss += F.nll_loss(output, target, reduction='sum').item() # sum up batch loss\n",
        "            pred = output.argmax(dim=1, keepdim=True) # get the index of the max log-probability\n",
        "            correct += pred.eq(target.view_as(pred)).sum().item()\n",
        "\n",
        "    test_loss /= len(test_loader.dataset)\n",
        "\n",
        "    print('\\nTest set: Average loss: {:.4f}, Accuracy: {}/{} ({:.0f}%)\\n'.format(\n",
        "        test_loss, correct, len(test_loader.dataset),\n",
        "        100. * correct / len(test_loader.dataset)))\n"
      ],
      "execution_count": 0,
      "outputs": []
    },
    {
      "cell_type": "markdown",
      "metadata": {
        "id": "Zg3DMzJiv7k2",
        "colab_type": "text"
      },
      "source": [
        "# Final parameter tuning and training"
      ]
    },
    {
      "cell_type": "code",
      "metadata": {
        "id": "VH-cYUtBuM1E",
        "colab_type": "code",
        "colab": {
          "base_uri": "https://localhost:8080/",
          "height": 476
        },
        "outputId": "d85a346a-aba5-418c-fc9f-e501a1b770f7"
      },
      "source": [
        "\n",
        "use_cuda = torch.cuda.is_available()\n",
        "\n",
        "torch.manual_seed(42)\n",
        "\n",
        "device = torch.device(\"cuda\" if use_cuda else \"cpu\")\n",
        "\n",
        "model = Net().to(device)\n",
        "\n",
        "optimizer = optim.SGD(model.parameters(), lr=0.05, momentum=0.5)\n",
        "\n",
        "# Test before training\n",
        "\n",
        "test(model, device, test_loader)\n",
        "\n",
        "for epoch in range(1, 3 + 1):\n",
        "    train(model, device, train_loader, optimizer, epoch)\n",
        "    test(model, device, test_loader)\n",
        "\n",
        "torch.save(model.state_dict(),\"mnist.pt\")\n",
        "        \n"
      ],
      "execution_count": 14,
      "outputs": [
        {
          "output_type": "stream",
          "text": [
            "\n",
            "Test set: Average loss: 2.2889, Accuracy: 1131/10000 (11%)\n",
            "\n",
            "Train Epoch: 1 [0/60000 (0%)]\tLoss: 2.287958\n",
            "Train Epoch: 1 [12800/60000 (21%)]\tLoss: 0.264152\n",
            "Train Epoch: 1 [25600/60000 (43%)]\tLoss: 0.255640\n",
            "Train Epoch: 1 [38400/60000 (64%)]\tLoss: 0.193662\n",
            "Train Epoch: 1 [51200/60000 (85%)]\tLoss: 0.200459\n",
            "\n",
            "Test set: Average loss: 0.1724, Accuracy: 9462/10000 (95%)\n",
            "\n",
            "Train Epoch: 2 [0/60000 (0%)]\tLoss: 0.142564\n",
            "Train Epoch: 2 [12800/60000 (21%)]\tLoss: 0.060985\n",
            "Train Epoch: 2 [25600/60000 (43%)]\tLoss: 0.145228\n",
            "Train Epoch: 2 [38400/60000 (64%)]\tLoss: 0.140892\n",
            "Train Epoch: 2 [51200/60000 (85%)]\tLoss: 0.095072\n",
            "\n",
            "Test set: Average loss: 0.1110, Accuracy: 9640/10000 (96%)\n",
            "\n",
            "Train Epoch: 3 [0/60000 (0%)]\tLoss: 0.092519\n",
            "Train Epoch: 3 [12800/60000 (21%)]\tLoss: 0.226778\n",
            "Train Epoch: 3 [25600/60000 (43%)]\tLoss: 0.131233\n",
            "Train Epoch: 3 [38400/60000 (64%)]\tLoss: 0.112240\n",
            "Train Epoch: 3 [51200/60000 (85%)]\tLoss: 0.038999\n",
            "\n",
            "Test set: Average loss: 0.0960, Accuracy: 9686/10000 (97%)\n",
            "\n"
          ],
          "name": "stdout"
        }
      ]
    },
    {
      "cell_type": "code",
      "metadata": {
        "id": "iABOXzvIvLlt",
        "colab_type": "code",
        "colab": {}
      },
      "source": [
        ""
      ],
      "execution_count": 0,
      "outputs": []
    }
  ]
}